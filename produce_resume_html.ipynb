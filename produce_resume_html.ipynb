{
 "cells": [
  {
   "cell_type": "markdown",
   "id": "c9bd3f10-8d7e-49ee-b1d3-9d007e4b4545",
   "metadata": {},
   "source": [
    "Took the crux from this repo: https://github.com/mikepqr/resume.md"
   ]
  },
  {
   "cell_type": "code",
   "execution_count": 2,
   "id": "88001d47-86ed-4ba9-8391-353fb4231337",
   "metadata": {},
   "outputs": [],
   "source": [
    "import markdown"
   ]
  },
  {
   "cell_type": "code",
   "execution_count": 8,
   "id": "307e9c6f-cc6f-4ab7-a72d-48170af88721",
   "metadata": {},
   "outputs": [],
   "source": [
    "preamble = \"\"\"\\\n",
    "<html lang=\"en\">\n",
    "<head>\n",
    "<meta charset=\"UTF-8\">\n",
    "<title>{title}</title>\n",
    "<style>\n",
    "{css}\n",
    "</style>\n",
    "</head>\n",
    "<body>\n",
    "<div id=\"resume\">\n",
    "\"\"\"\n",
    "\n",
    "postamble = \"\"\"\\\n",
    "</div>\n",
    "</body>\n",
    "</html>\n",
    "\"\"\"\n",
    "\n",
    "with open(\"./resume_documents/resume.md\", encoding=\"utf-8\") as mdfp:\n",
    "    md = mdfp.read()\n",
    "        \n",
    "with open(\"./resume_documents/resume.css\") as cssfp:\n",
    "    css = cssfp.read()\n",
    "      \n",
    "def title(md: str) -> str:\n",
    "    \"\"\"\n",
    "    Return the contents of the first markdown heading in md, which we\n",
    "    assume to be the title of the document.\n",
    "    \"\"\"\n",
    "    for line in md.splitlines():\n",
    "        if line[0] == \"#\":\n",
    "            return line.strip(\"#\").strip()\n",
    "    raise ValueError(\"Cannot find any lines that look like markdown headings\")\n",
    "    \n",
    "\n",
    "html = \"\".join(\n",
    "        (\n",
    "            preamble.format(title=title(md), css=css),\n",
    "            markdown.markdown(md, extensions=[\"smarty\"]),\n",
    "            postamble,\n",
    "        )\n",
    ")\n",
    "\n",
    "with open('./resume_documents/resume.html', 'w') as f:\n",
    "    f.write(html)"
   ]
  },
  {
   "cell_type": "markdown",
   "id": "cd1a4a48-6c6b-4c34-8fe8-dc94f54fd762",
   "metadata": {},
   "source": [
    "Final Step"
   ]
  },
  {
   "cell_type": "markdown",
   "id": "14d7830d-3142-4b7b-82f2-bbca9e9afa6e",
   "metadata": {},
   "source": [
    "Open the `./resume_documents/resume.html` in any browser and do `PrintPDF` to get a PDF resume (do uncheck `Headers` and `Footers` while converting to PDF)"
   ]
  }
 ],
 "metadata": {
  "kernelspec": {
   "display_name": "Python 3",
   "language": "python",
   "name": "python3"
  },
  "language_info": {
   "codemirror_mode": {
    "name": "ipython",
    "version": 3
   },
   "file_extension": ".py",
   "mimetype": "text/x-python",
   "name": "python",
   "nbconvert_exporter": "python",
   "pygments_lexer": "ipython3",
   "version": "3.6.9"
  }
 },
 "nbformat": 4,
 "nbformat_minor": 5
}
